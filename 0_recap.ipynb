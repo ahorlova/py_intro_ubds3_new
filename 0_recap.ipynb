{
 "cells": [
  {
   "cell_type": "markdown",
   "metadata": {},
   "source": [
    "# Basic Python recap"
   ]
  },
  {
   "cell_type": "markdown",
   "metadata": {},
   "source": [
    "### Task 1: Counting DNA Nucleotides\n",
    "Write a program that takes a DNA string as input and counts the occurrences of each nucleotide (A, T, C, G).\n"
   ]
  },
  {
   "cell_type": "code",
   "execution_count": 2,
   "metadata": {},
   "outputs": [],
   "source": [
    "# Example Input:\n",
    "# AGCTTCGA\n",
    "\n",
    "# Example Output:\n",
    "# A: 2\n",
    "# T: 2\n",
    "# C: 2\n",
    "# G: 2"
   ]
  },
  {
   "cell_type": "markdown",
   "metadata": {},
   "source": [
    "### Task 2: Replacing the Unknown nucleotide in DNA seqeence\n",
    "Write a program that replaces an unknown nucleotide in the DNA string into another nucleotide."
   ]
  },
  {
   "cell_type": "code",
   "execution_count": null,
   "metadata": {},
   "outputs": [],
   "source": [
    "# Example Input:\n",
    "# AGNTTNGA\n",
    "\n",
    "# Example Output:\n",
    "# AGCTTCGA"
   ]
  },
  {
   "cell_type": "markdown",
   "metadata": {},
   "source": [
    "### Task 3: Transcribing DNA to RNA\n",
    "Write a program that transcribes a DNA string into an RNA string by replacing all respective nucleotides.\n"
   ]
  },
  {
   "cell_type": "code",
   "execution_count": null,
   "metadata": {},
   "outputs": [],
   "source": [
    "# Example Input:\n",
    "# AGCTTCGA\n",
    "\n",
    "# Example Output:\n",
    "# UCGAAGCU\n"
   ]
  },
  {
   "cell_type": "markdown",
   "metadata": {},
   "source": [
    "### Task 4: Calculating GC Content\n",
    "Write a program that calculates the GC content (percentage of 'G' and 'C' nucleotides) in a DNA string.\n"
   ]
  },
  {
   "cell_type": "code",
   "execution_count": 13,
   "metadata": {},
   "outputs": [],
   "source": [
    "\n",
    "# Example Input:\n",
    "# AGCTTCGA\n",
    "\n",
    "# Example Output:\n",
    "# GC content: 50.0%\n"
   ]
  },
  {
   "cell_type": "markdown",
   "metadata": {},
   "source": [
    "### Task 5: Finding Motifs in DNA\n",
    "Write a program that finds all occurrences of a motif (short DNA sequence) within a larger DNA sequence."
   ]
  },
  {
   "cell_type": "code",
   "execution_count": null,
   "metadata": {},
   "outputs": [],
   "source": [
    "\n",
    "# Example Input:\n",
    "# DNA sequence: ATGCTGATCGTGATCG\n",
    "# Motif: TGA\n",
    "\n",
    "# Example Output:\n",
    "# Motif found at positions: 2, 10\n"
   ]
  },
  {
   "cell_type": "markdown",
   "metadata": {},
   "source": [
    "### Task 6: Reverse Complement of a DNA String\n",
    "Write a program that computes the reverse complement of a DNA string. The reverse complement is found by reversing the string and then taking the complement of each nucleotide."
   ]
  },
  {
   "cell_type": "code",
   "execution_count": null,
   "metadata": {},
   "outputs": [],
   "source": [
    "# Example Input:\n",
    "# AGCTTCGA\n",
    "\n",
    "# Example Output:\n",
    "# TCGAAGCT"
   ]
  },
  {
   "cell_type": "markdown",
   "metadata": {},
   "source": [
    "### Task 7: Calculating Hamming Distance\n",
    "Write a program that calculates the Hamming distance between two DNA strings of equal length. The Hamming distance is the number of positions at which the corresponding nucleotides are different.\n"
   ]
  },
  {
   "cell_type": "code",
   "execution_count": null,
   "metadata": {},
   "outputs": [],
   "source": [
    "# Example Input:\n",
    "# DNA string 1: GAGCCTACTAACGGGAT\n",
    "# DNA string 2: CATCGTAATGACGGCCT\n",
    "\n",
    "# Example Output:\n",
    "# Hamming Distance: 7"
   ]
  },
  {
   "cell_type": "markdown",
   "metadata": {},
   "source": [
    "### Task 8: Simulating DNA Mutations\n",
    "Write a program that simulates a single-point mutation in a DNA string at a random position, replacing the original nucleotide with another random nucleotide.\n"
   ]
  },
  {
   "cell_type": "code",
   "execution_count": 8,
   "metadata": {},
   "outputs": [],
   "source": [
    "# Example Input:\n",
    "# Original DNA: AGCTTCGA\n",
    "\n",
    "# Example Output:\n",
    "# Mutated DNA: AGCTACGA"
   ]
  },
  {
   "cell_type": "markdown",
   "metadata": {},
   "source": [
    "### Task 9: Counting Codon Frequencies\n",
    "Write a program that takes a DNA string and counts the frequency of each codon (triplet of nucleotides).\n",
    "\n"
   ]
  },
  {
   "cell_type": "code",
   "execution_count": null,
   "metadata": {},
   "outputs": [],
   "source": [
    "# Example Input:\n",
    "# GCTAGCTTCGAAGCTAGCGCT\n",
    "\n",
    "# Example Output:\n",
    "# GCT: 3\n",
    "# AGC: 2\n",
    "# TTC: 1\n",
    "# GAA: 1"
   ]
  },
  {
   "cell_type": "markdown",
   "metadata": {},
   "source": []
  }
 ],
 "metadata": {
  "kernelspec": {
   "display_name": "python-intro",
   "language": "python",
   "name": "python3"
  },
  "language_info": {
   "codemirror_mode": {
    "name": "ipython",
    "version": 3
   },
   "file_extension": ".py",
   "mimetype": "text/x-python",
   "name": "python",
   "nbconvert_exporter": "python",
   "pygments_lexer": "ipython3",
   "version": "3.9.19"
  }
 },
 "nbformat": 4,
 "nbformat_minor": 2
}
